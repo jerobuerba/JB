{
 "cells": [
  {
   "cell_type": "code",
   "execution_count": 59,
   "metadata": {},
   "outputs": [],
   "source": [
    "import pandas as pd\n",
    "import numpy as np\n",
    "import sklearn as sklearn\n",
    "import matplotlib.pyplot as plt"
   ]
  },
  {
   "cell_type": "code",
   "execution_count": 90,
   "metadata": {},
   "outputs": [],
   "source": [
    "df = pd.read_excel('Open Balance.xlsm')\n",
    "df2 = pd.read_excel('Open Balance2.xlsm')"
   ]
  },
  {
   "cell_type": "code",
   "execution_count": 92,
   "metadata": {
    "scrolled": false
   },
   "outputs": [
    {
     "data": {
      "text/html": [
       "<div>\n",
       "<style scoped>\n",
       "    .dataframe tbody tr th:only-of-type {\n",
       "        vertical-align: middle;\n",
       "    }\n",
       "\n",
       "    .dataframe tbody tr th {\n",
       "        vertical-align: top;\n",
       "    }\n",
       "\n",
       "    .dataframe thead th {\n",
       "        text-align: right;\n",
       "    }\n",
       "</style>\n",
       "<table border=\"1\" class=\"dataframe\">\n",
       "  <thead>\n",
       "    <tr style=\"text-align: right;\">\n",
       "      <th></th>\n",
       "      <th>Cedent Name</th>\n",
       "      <th>Open Net Amt C Book in USD</th>\n",
       "    </tr>\n",
       "  </thead>\n",
       "  <tbody>\n",
       "    <tr>\n",
       "      <th>0</th>\n",
       "      <td>La Segunda Cooperativa Limitad</td>\n",
       "      <td>-787740.9064</td>\n",
       "    </tr>\n",
       "    <tr>\n",
       "      <th>1</th>\n",
       "      <td>Provincia Seguros S.A.</td>\n",
       "      <td>-510396.5944</td>\n",
       "    </tr>\n",
       "    <tr>\n",
       "      <th>2</th>\n",
       "      <td>San Cristobal Sociedad Mutual</td>\n",
       "      <td>-489435.6538</td>\n",
       "    </tr>\n",
       "    <tr>\n",
       "      <th>3</th>\n",
       "      <td>Boston Cia Argentina</td>\n",
       "      <td>-469555.5426</td>\n",
       "    </tr>\n",
       "    <tr>\n",
       "      <th>4</th>\n",
       "      <td>Federacion Patronal Reaseguros</td>\n",
       "      <td>-386549.0850</td>\n",
       "    </tr>\n",
       "    <tr>\n",
       "      <th>5</th>\n",
       "      <td>Prevencion ART</td>\n",
       "      <td>-334516.9881</td>\n",
       "    </tr>\n",
       "    <tr>\n",
       "      <th>6</th>\n",
       "      <td>Berkley Intl Seguros</td>\n",
       "      <td>-303188.5549</td>\n",
       "    </tr>\n",
       "    <tr>\n",
       "      <th>7</th>\n",
       "      <td>Sancor Cooperativa de Seguros</td>\n",
       "      <td>-177336.0232</td>\n",
       "    </tr>\n",
       "    <tr>\n",
       "      <th>8</th>\n",
       "      <td>Integrity Reaseguros Argentina</td>\n",
       "      <td>-176512.5500</td>\n",
       "    </tr>\n",
       "    <tr>\n",
       "      <th>9</th>\n",
       "      <td>Evolucion Seguros S.A.</td>\n",
       "      <td>-155996.5963</td>\n",
       "    </tr>\n",
       "  </tbody>\n",
       "</table>\n",
       "</div>"
      ],
      "text/plain": [
       "                      Cedent Name  Open Net Amt C Book in USD\n",
       "0  La Segunda Cooperativa Limitad                -787740.9064\n",
       "1          Provincia Seguros S.A.                -510396.5944\n",
       "2   San Cristobal Sociedad Mutual                -489435.6538\n",
       "3            Boston Cia Argentina                -469555.5426\n",
       "4  Federacion Patronal Reaseguros                -386549.0850\n",
       "5                  Prevencion ART                -334516.9881\n",
       "6            Berkley Intl Seguros                -303188.5549\n",
       "7   Sancor Cooperativa de Seguros                -177336.0232\n",
       "8  Integrity Reaseguros Argentina                -176512.5500\n",
       "9          Evolucion Seguros S.A.                -155996.5963"
      ]
     },
     "execution_count": 92,
     "metadata": {},
     "output_type": "execute_result"
    }
   ],
   "source": [
    "df_filt_ced = df[df['Invoice Type'].isin(['Clm','Rnst','Misc'])]\n",
    "df_filt_ced = df[df['Age Category'].isin(['121_180 Days','181-365 Days','Over 365 Days'])]\n",
    "df_filt_ced = df_filt_ced[['Cedent Name','Open Net Amt C Book in USD']]\n",
    "df_filt_ced = df_filt_ced.groupby('Cedent Name').sum()\n",
    "df_filt_ced = df_filt_ced.sort_values(by = 'Open Net Amt C Book in USD')\n",
    "df_filt_ced = df_filt_ced[:10]\n",
    "df_filt_ced = df_filt_ced.reset_index()\n",
    "df_filt_ced"
   ]
  },
  {
   "cell_type": "code",
   "execution_count": 94,
   "metadata": {},
   "outputs": [
    {
     "data": {
      "text/html": [
       "<div>\n",
       "<style scoped>\n",
       "    .dataframe tbody tr th:only-of-type {\n",
       "        vertical-align: middle;\n",
       "    }\n",
       "\n",
       "    .dataframe tbody tr th {\n",
       "        vertical-align: top;\n",
       "    }\n",
       "\n",
       "    .dataframe thead th {\n",
       "        text-align: right;\n",
       "    }\n",
       "</style>\n",
       "<table border=\"1\" class=\"dataframe\">\n",
       "  <thead>\n",
       "    <tr style=\"text-align: right;\">\n",
       "      <th></th>\n",
       "      <th>Cedent Name</th>\n",
       "      <th>Open Net Amt C Book in USD</th>\n",
       "    </tr>\n",
       "  </thead>\n",
       "  <tbody>\n",
       "    <tr>\n",
       "      <th>0</th>\n",
       "      <td>La Segunda Cooperativa Limitad</td>\n",
       "      <td>-706446.7701</td>\n",
       "    </tr>\n",
       "    <tr>\n",
       "      <th>1</th>\n",
       "      <td>Provincia Seguros S.A.</td>\n",
       "      <td>-508179.0649</td>\n",
       "    </tr>\n",
       "    <tr>\n",
       "      <th>2</th>\n",
       "      <td>San Cristobal Sociedad Mutual</td>\n",
       "      <td>-488826.5431</td>\n",
       "    </tr>\n",
       "    <tr>\n",
       "      <th>3</th>\n",
       "      <td>Boston Cia Argentina</td>\n",
       "      <td>-413012.2095</td>\n",
       "    </tr>\n",
       "    <tr>\n",
       "      <th>4</th>\n",
       "      <td>Federacion Patronal Reaseguros</td>\n",
       "      <td>-386552.0508</td>\n",
       "    </tr>\n",
       "    <tr>\n",
       "      <th>5</th>\n",
       "      <td>Prevencion ART</td>\n",
       "      <td>-321531.1100</td>\n",
       "    </tr>\n",
       "    <tr>\n",
       "      <th>6</th>\n",
       "      <td>Berkley Intl Seguros</td>\n",
       "      <td>-281217.9886</td>\n",
       "    </tr>\n",
       "    <tr>\n",
       "      <th>7</th>\n",
       "      <td>Integrity Reaseguros Argentina</td>\n",
       "      <td>-176512.5500</td>\n",
       "    </tr>\n",
       "    <tr>\n",
       "      <th>8</th>\n",
       "      <td>Evolucion Seguros S.A.</td>\n",
       "      <td>-158528.4667</td>\n",
       "    </tr>\n",
       "    <tr>\n",
       "      <th>9</th>\n",
       "      <td>Allianz Argentina Comp de Seg</td>\n",
       "      <td>-152374.7037</td>\n",
       "    </tr>\n",
       "  </tbody>\n",
       "</table>\n",
       "</div>"
      ],
      "text/plain": [
       "                      Cedent Name  Open Net Amt C Book in USD\n",
       "0  La Segunda Cooperativa Limitad                -706446.7701\n",
       "1          Provincia Seguros S.A.                -508179.0649\n",
       "2   San Cristobal Sociedad Mutual                -488826.5431\n",
       "3            Boston Cia Argentina                -413012.2095\n",
       "4  Federacion Patronal Reaseguros                -386552.0508\n",
       "5                  Prevencion ART                -321531.1100\n",
       "6            Berkley Intl Seguros                -281217.9886\n",
       "7  Integrity Reaseguros Argentina                -176512.5500\n",
       "8          Evolucion Seguros S.A.                -158528.4667\n",
       "9   Allianz Argentina Comp de Seg                -152374.7037"
      ]
     },
     "execution_count": 94,
     "metadata": {},
     "output_type": "execute_result"
    }
   ],
   "source": [
    "df2filt_ced = df2[df2['Invoice Type'].isin(['Clm','Rnst','Misc'])]\n",
    "df2_filt_ced = df2[df2['Age Category'].isin(['121_180 Days','181-365 Days','Over 365 Days'])]\n",
    "df2_filt_ced = df2_filt_ced[['Cedent Name','Open Net Amt C Book in USD']]\n",
    "df2_filt_ced = df2_filt_ced.groupby('Cedent Name').sum()\n",
    "df2_filt_ced = df2_filt_ced.sort_values(by = 'Open Net Amt C Book in USD')\n",
    "df2_filt_ced = df2_filt_ced[:10]\n",
    "df2_filt_ced = df2_filt_ced.reset_index()\n",
    "df2_filt_ced"
   ]
  },
  {
   "cell_type": "code",
   "execution_count": 95,
   "metadata": {},
   "outputs": [
    {
     "data": {
      "image/png": "[encoded data removed]",
      "text/plain": [
       "<Figure size 432x288 with 1 Axes>"
      ]
     },
     "metadata": {
      "needs_background": "light"
     },
     "output_type": "display_data"
    }
   ],
   "source": [
    "plt.bar(df_filt_ced['Cedent Name'], df_filt_ced['Open Net Amt C Book in USD'], align = 'center', alpha=0.2)\n",
    "plt.xticks(rotation=90)\n",
    "plt.title('Top 10 Cedentes')\n",
    "plt.ylabel('USD')\n",
    "plt.show()"
   ]
  },
  {
   "cell_type": "code",
   "execution_count": null,
   "metadata": {},
   "outputs": [],
   "source": []
  }
 ],
 "metadata": {
  "kernelspec": {
   "display_name": "Python 3",
   "language": "python",
   "name": "python3"
  },
  "language_info": {
   "codemirror_mode": {
    "name": "ipython",
    "version": 3
   },
   "file_extension": ".py",
   "mimetype": "text/x-python",
   "name": "python",
   "nbconvert_exporter": "python",
   "pygments_lexer": "ipython3",
   "version": "3.7.3"
  }
 },
 "nbformat": 4,
 "nbformat_minor": 2
}
